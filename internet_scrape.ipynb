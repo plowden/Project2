{
 "cells": [
  {
   "cell_type": "code",
   "execution_count": 104,
   "metadata": {},
   "outputs": [],
   "source": [
    "# Dependencies\n",
    "import pymongo\n",
    "from splinter import Browser\n",
    "from bs4 import BeautifulSoup as bs\n",
    "import requests\n",
    "import datetime\n",
    "import calendar\n",
    "import re"
   ]
  },
  {
   "cell_type": "code",
   "execution_count": 105,
   "metadata": {},
   "outputs": [],
   "source": [
    "# Create a browser object for use by all the scrapes.\n",
    "# Need to do \"brew install geckodriver\" to use Firefox on Mac.\n",
    "# Chrome doesn't correctly show the counters on Mac.\n",
    "def init_browser():\n",
    "    return Browser(\"firefox\")"
   ]
  },
  {
   "cell_type": "markdown",
   "metadata": {},
   "source": [
    "### Scrape https://map.webex.com/ and collect the counters for Jan, Feb, and Mar.\n"
   ]
  },
  {
   "cell_type": "code",
   "execution_count": 106,
   "metadata": {},
   "outputs": [],
   "source": [
    "def scrape_webex():\n",
    "    browser = init_browser()\n",
    "\n",
    "    # Visit https://map.webex.com/\n",
    "    url = \"https://map.webex.com/\"\n",
    "    browser.visit(url)\n",
    "\n",
    "    # Give time for dynamic content to load\n",
    "    time.sleep(5)\n",
    "\n",
    "    # Scrape page into Soup\n",
    "    html = browser.html\n",
    "    soup = bs(html, \"html.parser\")\n",
    "\n",
    "    month_ids = ['last2Month', 'lastMonth', 'nowMonth']\n",
    "    months = []\n",
    "    hosts_commas = []\n",
    "    hosts = []\n",
    "    participants_commas = []\n",
    "    participants = []\n",
    "    countries = []\n",
    "    meetings_commas = []\n",
    "    meetings = []\n",
    "    minutes = []\n",
    "\n",
    "    for month_id in month_ids:\n",
    "        with browser.get_iframe('meetingMap') as iframe:\n",
    "            iframe.click_link_by_id(month_id)\n",
    "            time.sleep(5)\n",
    "            iframe_html = iframe.html\n",
    "            iframe_soup = bs(iframe_html, \"html.parser\")\n",
    "            months.append(iframe_soup.find('span', id=month_id).get_text())\n",
    "            #print(f'iframe_soup: {iframe_soup}')\n",
    "            #hosts.append(iframe_soup.find('span', id='hostData'))\n",
    "            hosts_commas.append(re.search('title=\\\"(.*)\\\"', str(iframe_soup.find('span', id='hostData'))).group(1))\n",
    "            #hosts = ''.join(map(str, hosts))\n",
    "            #hosts = hosts.replace(\",\", \"\")\n",
    "\n",
    "            participants_commas.append(re.search('title=\\\"(.*)\\\"', str(iframe_soup.find('span', id='participantData'))).group(1))\n",
    "            countries.append(re.search('title=\\\"(.*)\\\"', str(iframe_soup.find('span', id='countryData'))).group(1))\n",
    "            meetings_commas.append(re.search('title=\\\"(.*)\\\"', str(iframe_soup.find('span', id='meetingData'))).group(1))\n",
    "            \n",
    "            mins = []\n",
    "            num = 11\n",
    "            while num > 0:\n",
    "                a = str(iframe_soup.find('div', id='num' + str(num)))\n",
    "                b = re.search(r'<span>(\\d*)', a).group(1)             \n",
    "                mins.append(b)\n",
    "                num = num - 1\n",
    "            mins_string = ''.join(map(str, mins))\n",
    "            minutes.append(mins_string)\n",
    "           \n",
    "        \n",
    "                \n",
    "    hosts =[s.replace(',', '') for s in hosts_commas]\n",
    "    participants = [s.replace(',', '') for s in participants_commas]\n",
    "    meetings = [s.replace(',', '') for s in meetings_commas]\n",
    "    \n",
    "    webex = {\n",
    "        \"months\": months,\n",
    "        \"hosts\": hosts,\n",
    "        \"participants\": participants,\n",
    "        \"countries\": countries,\n",
    "        \"meetings\": meetings,\n",
    "        \"minutes\": minutes\n",
    "    }\n",
    "    \n",
    "\n",
    "    # Close the browser after scraping\n",
    "    browser.quit()\n",
    "\n",
    "    # Return results\n",
    "    return webex"
   ]
  },
  {
   "cell_type": "code",
   "execution_count": 109,
   "metadata": {},
   "outputs": [
    {
     "name": "stdout",
     "output_type": "stream",
     "text": [
      "months: ['January 2020', 'February 2020', 'Current']\n",
      "hosts: ['24504686', '24420815', '26000472']\n",
      "participants: ['152398517', '161764828', '271921085']\n",
      "countries: ['223', '224', '221']\n",
      "meetings: ['36892704', '37994030', '58415256']\n",
      "minutes: ['6310089577', '6787001490', '11012414536']\n"
     ]
    }
   ],
   "source": [
    "webex_days = scrape_webex()\n",
    "print(f'months: {webex_days[\"months\"]}')\n",
    "print(f'hosts: {webex_days[\"hosts\"]}')\n",
    "print(f'participants: {webex_days[\"participants\"]}')\n",
    "print(f'countries: {webex_days[\"countries\"]}')\n",
    "print(f'meetings: {webex_days[\"meetings\"]}')\n",
    "print(f'minutes: {webex_days[\"minutes\"]}')"
   ]
  },
  {
   "cell_type": "code",
   "execution_count": 110,
   "metadata": {},
   "outputs": [],
   "source": [
    "def get_hours(month):\n",
    "    \"\"\"\n",
    "    Calculates the hours in a month.\n",
    "    Usage: get_hours(\"January 2020\") or get_hours(\"Current\")\n",
    "    \"\"\"\n",
    "    months = [\"January\", \"February\", \"March\", \"April\", \"May\", \"June\",\n",
    "            \"July\", \"August\", \"September\", \"October\", \"November\", \"December\"]\n",
    "    month_list = re.split(r'\\s', month)\n",
    "    month = month_list[0]\n",
    "    if month == \"Current\":\n",
    "        year = datetime.datetime.today().strftime(\"%Y\")\n",
    "        days = int(datetime.datetime.today().strftime(\"%d\"))\n",
    "    else:\n",
    "        year = month_list[1]\n",
    "        days = calendar.monthrange(int(year),int(months.index(month))+1)[1]\n",
    "    hours = days * 24\n",
    "    return hours\n"
   ]
  },
  {
   "cell_type": "code",
   "execution_count": 111,
   "metadata": {},
   "outputs": [
    {
     "name": "stdout",
     "output_type": "stream",
     "text": [
      "744\n",
      "696\n",
      "624\n",
      "months: ['January 2020', 'February 2020', 'Current']\n",
      "hosts: [32936, 35087, 41667]\n",
      "participants: [204837, 232421, 435771]\n",
      "countries: ['223', '224', '221']\n",
      "meetings: [49587, 54589, 93614]\n",
      "minutes: [8481303, 9751439, 17648100]\n"
     ]
    }
   ],
   "source": [
    "hours = []\n",
    "for i in webex_days[\"months\"]:\n",
    "    hours_month = get_hours(i)\n",
    "    hours.append(int(hours_month))\n",
    "\n",
    "for i in range(3):\n",
    "    webex[\"hosts\"][i] = round(int(webex_days[\"hosts\"][i]) / hours[i])\n",
    "    webex[\"participants\"][i] = round(int(webex_days[\"participants\"][i]) / hours[i])\n",
    "    webex[\"meetings\"][i] = round(int(webex_days[\"meetings\"][i]) / hours[i])\n",
    "    webex[\"minutes\"][i] = round(int(webex_days[\"minutes\"][i]) / hours[i])\n",
    "    \n",
    "print(f'months: {webex[\"months\"]}')\n",
    "print(f'hosts: {webex[\"hosts\"]}')\n",
    "print(f'participants: {webex[\"participants\"]}')\n",
    "print(f'countries: {webex[\"countries\"]}')\n",
    "print(f'meetings: {webex[\"meetings\"]}')\n",
    "print(f'minutes: {webex[\"minutes\"]}')\n",
    "    "
   ]
  },
  {
   "cell_type": "code",
   "execution_count": null,
   "metadata": {},
   "outputs": [],
   "source": []
  },
  {
   "cell_type": "code",
   "execution_count": null,
   "metadata": {},
   "outputs": [],
   "source": []
  }
 ],
 "metadata": {
  "kernelspec": {
   "display_name": "Python 3",
   "language": "python",
   "name": "python3"
  },
  "language_info": {
   "codemirror_mode": {
    "name": "ipython",
    "version": 3
   },
   "file_extension": ".py",
   "mimetype": "text/x-python",
   "name": "python",
   "nbconvert_exporter": "python",
   "pygments_lexer": "ipython3",
   "version": "3.6.9"
  }
 },
 "nbformat": 4,
 "nbformat_minor": 2
}
